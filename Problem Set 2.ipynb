{
 "cells": [
  {
   "cell_type": "markdown",
   "id": "b0aedd5f",
   "metadata": {},
   "source": [
    "# Problem Set Two "
   ]
  },
  {
   "cell_type": "markdown",
   "id": "6fc47a7b",
   "metadata": {},
   "source": [
    "# Question 1"
   ]
  },
  {
   "cell_type": "code",
   "execution_count": 1,
   "id": "af7aba19",
   "metadata": {},
   "outputs": [
    {
     "data": {
      "text/plain": [
       "6"
      ]
     },
     "execution_count": 1,
     "metadata": {},
     "output_type": "execute_result"
    }
   ],
   "source": [
    "a = 0\n",
    "def b():\n",
    "    global a\n",
    "    a = c(a)\n",
    "def c(a):\n",
    "    return a + 2\n",
    "b()\n",
    "b()\n",
    "b()\n",
    "a"
   ]
  },
  {
   "cell_type": "markdown",
   "id": "a066ca70",
   "metadata": {},
   "source": [
    "## Explanation of Question 1"
   ]
  },
  {
   "cell_type": "markdown",
   "id": "ef4f6e00",
   "metadata": {},
   "source": [
    "Initially Global Value is 0.<br>\n",
    "\n",
    "<b>First Step</b><br>\n",
    "\n",
    "After Calling function b() on first run it will initialize function c with 'a' value equal to zero and at the end of that function 'a' has updated value of 2 so a equal to 2 (0+2).<br>\n",
    "\n",
    "<b>Second Step</b><br>\n",
    "\n",
    "After Calling function b() for second time it will initialize function c with 'a' value equal to two and at the end of that function 'a' has updated value of 4 so a equal to 4 (2+2).<br>\n",
    "\n",
    "<b>Third Step</b><br>\n",
    "\n",
    "After Calling function b() for third time it will initialize function c with 'a' value = 4 and at the end of that function 'a' has updated value of 6 so a = 6 (4+2).<br><br>\n",
    "\n",
    "<b><i>So final output value of global variable is 6.</i></b>"
   ]
  },
  {
   "cell_type": "markdown",
   "id": "c9b2d592",
   "metadata": {},
   "source": [
    "# Question 2 "
   ]
  },
  {
   "cell_type": "code",
   "execution_count": 3,
   "id": "35b5bd91",
   "metadata": {},
   "outputs": [
    {
     "name": "stdout",
     "output_type": "stream",
     "text": [
      "Please enter a file name to get its length: amit.txt\n",
      "18\n"
     ]
    }
   ],
   "source": [
    "def filelength(file_name):\n",
    "    try:    \n",
    "        with open(file_name) as file:\n",
    "            file_contents = file.read()\n",
    "            file_length = len(file_contents)\n",
    "            print(file_length)\n",
    "    except FileNotFoundError:\n",
    "        print(f\"File '{file_name}' not found.\")\n",
    "    except:\n",
    "        print(\"Something went wrong!\")\n",
    "\n",
    "file_name = input(\"Please enter a file name to get its length: \")\n",
    "filelength(file_name)"
   ]
  },
  {
   "cell_type": "markdown",
   "id": "f8a1247b",
   "metadata": {},
   "source": [
    "# Question 3"
   ]
  },
  {
   "cell_type": "code",
   "execution_count": 4,
   "id": "652a1e5f",
   "metadata": {},
   "outputs": [],
   "source": [
    "class Marsupial:\n",
    "    def __init__(self):\n",
    "        self.marsuLst = []\n",
    "    \n",
    "    def put_in_pouch(self,pouch):\n",
    "        self.marsuLst.append(pouch)\n",
    "        \n",
    "    def pouch_contents(self):\n",
    "        return self.marsuLst\n",
    "\n",
    "class Kangaroo(Marsupial):\n",
    "    def __init__(self, dx, dy):\n",
    "        self.x = dx\n",
    "        self.y = dy\n",
    "        \n",
    "    def jump(self,dx,dy):\n",
    "        self.x +=dx\n",
    "        self.y +=dy\n",
    "        \n",
    "    def __str__(self):\n",
    "        return \"I am a Kangaroo located at coordinates ({0},{1})\".format(self.x,self.y)"
   ]
  },
  {
   "cell_type": "code",
   "execution_count": 5,
   "id": "2fab0d25",
   "metadata": {},
   "outputs": [
    {
     "data": {
      "text/plain": [
       "['doll', 'firetruck', 'kitten']"
      ]
     },
     "execution_count": 5,
     "metadata": {},
     "output_type": "execute_result"
    }
   ],
   "source": [
    "m = Marsupial()\n",
    "m.put_in_pouch('doll')\n",
    "m.put_in_pouch('firetruck')\n",
    "m.put_in_pouch('kitten')\n",
    "m.pouch_contents()"
   ]
  },
  {
   "cell_type": "code",
   "execution_count": 6,
   "id": "2aa914b8",
   "metadata": {},
   "outputs": [
    {
     "name": "stdout",
     "output_type": "stream",
     "text": [
      "I am a Kangaroo located at coordinates (3,0)\n"
     ]
    }
   ],
   "source": [
    "k = Kangaroo(0,0)\n",
    "k.jump(1,0)\n",
    "k.jump(1,0)\n",
    "k.jump(1,0)\n",
    "print(k)"
   ]
  },
  {
   "cell_type": "markdown",
   "id": "9b3acf15",
   "metadata": {},
   "source": [
    "# Question 4"
   ]
  },
  {
   "cell_type": "code",
   "execution_count": 8,
   "id": "2681a0f0",
   "metadata": {},
   "outputs": [
    {
     "name": "stdout",
     "output_type": "stream",
     "text": [
      "Enter Value10\n",
      "10\n",
      "5\n",
      "16\n",
      "8\n",
      "4\n",
      "2\n",
      "1\n"
     ]
    }
   ],
   "source": [
    "def collatz(n):\n",
    "    if(n==1):\n",
    "        print(n)\n",
    "    else:\n",
    "        \n",
    "        if(n % 2==0):\n",
    "            print(n)\n",
    "            n = n//2\n",
    "        else:\n",
    "            print(n)\n",
    "            n = (3*n)+1\n",
    "        collatz(n)\n",
    "a= int(input(\"Enter Value\"))\n",
    "collatz(a)"
   ]
  },
  {
   "cell_type": "markdown",
   "id": "ae5793e8",
   "metadata": {},
   "source": [
    "# Question 5"
   ]
  },
  {
   "cell_type": "code",
   "execution_count": 9,
   "id": "fe408bf3",
   "metadata": {},
   "outputs": [],
   "source": [
    "def binary(n):\n",
    "    if (n > 1):\n",
    "        binary(n//2)\n",
    "        \n",
    "    r = n % 2 \n",
    "    print(r,end = '')"
   ]
  },
  {
   "cell_type": "code",
   "execution_count": 10,
   "id": "baf38a1f",
   "metadata": {},
   "outputs": [
    {
     "name": "stdout",
     "output_type": "stream",
     "text": [
      "100None\n",
      "101101None\n",
      "111001000None\n"
     ]
    }
   ],
   "source": [
    "print(binary(4))\n",
    "print(binary(45))\n",
    "print(binary(456))"
   ]
  },
  {
   "cell_type": "markdown",
   "id": "f51c8c53",
   "metadata": {},
   "source": [
    "# Question 6"
   ]
  },
  {
   "cell_type": "code",
   "execution_count": 11,
   "id": "d54865c4",
   "metadata": {},
   "outputs": [
    {
     "name": "stdout",
     "output_type": "stream",
     "text": [
      "['W3C Mission', 'Principles']\n"
     ]
    }
   ],
   "source": [
    "from html.parser import HTMLParser\n",
    "\n",
    "inputfile = open(\"w3c.html\", \"r\")\n",
    "content = inputfile.read()\n",
    "inputfile.close()\n",
    "\n",
    "class headingParser(HTMLParser):\n",
    "\n",
    "    def __init__(self):\n",
    "        super().__init__()\n",
    "        self.data = []\n",
    "        self.capture = False\n",
    "\n",
    "    def handle_starttag(self, tag, attrs):\n",
    "        if tag in ('p', 'h1'):\n",
    "            self.capture = True\n",
    "        elif tag in ('p', 'h2'):\n",
    "            self.capture = True\n",
    "        \n",
    "    def handle_endtag(self, tag):\n",
    "        if tag in ('p', 'h1'):\n",
    "            self.capture = False\n",
    "        elif tag in ('p', 'h2'):\n",
    "            self.capture = False\n",
    "\n",
    "    def handle_data(self, data):\n",
    "        if self.capture:\n",
    "            self.data.append(data)\n",
    "\n",
    "parser = headingParser()\n",
    "parser.feed(content)\n",
    "\n",
    "print(parser.data)"
   ]
  },
  {
   "cell_type": "markdown",
   "id": "15fe727d",
   "metadata": {},
   "source": [
    "# Question 7"
   ]
  },
  {
   "cell_type": "code",
   "execution_count": 12,
   "id": "46bc8711",
   "metadata": {},
   "outputs": [
    {
     "name": "stdout",
     "output_type": "stream",
     "text": [
      "http://reed.cs.depaul.edu/lperkovic/test1.html\n",
      " http://reed.cs.depaul.edu/lperkovic/test2.html\n",
      "  http://reed.cs.depaul.edu/lperkovic/test4.html\n",
      " http://reed.cs.depaul.edu/lperkovic/test3.html\n",
      "  http://reed.cs.depaul.edu/lperkovic/test4.html\n"
     ]
    }
   ],
   "source": [
    "import urllib.request\n",
    "from html.parser import HTMLParser\n",
    "\n",
    "class MyParser(HTMLParser):\n",
    "    def handle_starttag(self, tag, attrs):\n",
    "        if tag=='a':\n",
    "            for attr in attrs:\n",
    "                if attr[0]=='href':\n",
    "                    if attr[1][-4:]=='html':\n",
    "                        if attr[1][:4]=='http':\n",
    "                            webdir(attr[1],1,1)\n",
    "                        elif attr[1][:5]=='test3':\n",
    "                            url='http://reed.cs.depaul.edu/lperkovic/'+attr[1]\n",
    "                            webdir(url,0,1)\n",
    "                        else:\n",
    "                            url='http://reed.cs.depaul.edu/lperkovic/'+attr[1]\n",
    "                            webdir(url,0,2)\n",
    "\n",
    "def webdir(url,depth,indent):\n",
    "    if indent==0:\n",
    "        print(url)\n",
    "    elif indent==1:\n",
    "        print(\" \"+url)\n",
    "    elif indent==2:\n",
    "        print(\"  \"+url)\n",
    "    request = urllib.request.urlopen(url)\n",
    "    html=request.read().decode(\"utf8\")\n",
    "    parser =MyParser()\n",
    "    parser.feed(html)\n",
    "webdir('http://reed.cs.depaul.edu/lperkovic/test1.html',2,0)"
   ]
  },
  {
   "cell_type": "markdown",
   "id": "a990e7d2",
   "metadata": {},
   "source": [
    "# Quection 8"
   ]
  },
  {
   "cell_type": "markdown",
   "id": "744e64ae",
   "metadata": {},
   "source": [
    "#### Write SQL queries on the below database table that return: I have assumed the table name as temperature. a) All the temperature data"
   ]
  },
  {
   "cell_type": "markdown",
   "id": "44aad2e5",
   "metadata": {},
   "source": [
    "### Lets assume table name is seasons"
   ]
  },
  {
   "cell_type": "markdown",
   "id": "e7ae6e11",
   "metadata": {},
   "source": [
    "<b>a) All the temperature data.</b> </br>\n",
    "SELECT Temperature(C) From seasons;  </br>\n",
    "\n",
    "<b>b) All the cities, but without repetition.</b></br>\n",
    "SELECT DISTINCT city FROM seasons; </br> \n",
    "\n",
    "<b>c) All the records for India.</b></br>\n",
    "SELECT * FROM seasons WHERE Country = 'India';</br>\n",
    "\n",
    "<b>d) All the Fall records.</b></br>\n",
    "SELECT * FROM seasons WHERE Season = Fall ;</br>\n",
    "\n",
    "<b>e) The city, country, and season for which the average weatherfall is between 200 and 400 millimeters.</b></br>\n",
    "SELECT city, country, season FROM seasons WHERE rainfall(mm) between200 and 400;</br>\n",
    "\n",
    "<b>f) The city and country for which the average Fall temperature is above 20\n",
    "degrees, in increasing temperature order.</b></br>\n",
    "SELECT city, country FROM seasons WHERE Temperature > 20 ORDER BY Temperature ASC;  </br>\n",
    "\n",
    "<b>g) The total annual weatherfall for Cairo.</b></br>\n",
    "SELECT SUM(rainfall(mm) FROM seasons WHERE City = Cairo;</br>\n",
    "\n",
    "<b>h) The total weatherfall for each season.</b></br>\n",
    "SELECT SUM(rainfall(mm)) FROM seasons GROUP BY Season;"
   ]
  },
  {
   "cell_type": "markdown",
   "id": "52bc8864",
   "metadata": {},
   "source": [
    "# Question - 9"
   ]
  },
  {
   "cell_type": "code",
   "execution_count": 13,
   "id": "9daa744f",
   "metadata": {},
   "outputs": [],
   "source": [
    "words = ['The', 'quick', 'brown', 'fox', 'jumps', 'over', 'the', 'lazy', 'dog']"
   ]
  },
  {
   "cell_type": "markdown",
   "id": "a4a10878",
   "metadata": {},
   "source": [
    "### Part A"
   ]
  },
  {
   "cell_type": "code",
   "execution_count": 14,
   "id": "c3c94236",
   "metadata": {},
   "outputs": [
    {
     "name": "stdout",
     "output_type": "stream",
     "text": [
      "['THE', 'QUICK', 'BROWN', 'FOX', 'JUMPS', 'OVER', 'THE', 'LAZY', 'DOG']\n"
     ]
    }
   ],
   "source": [
    "upperCaseWords = []\n",
    "\n",
    "for word in words:\n",
    "    upperCaseWords.append(word.upper())\n",
    "\n",
    "print(upperCaseWords)"
   ]
  },
  {
   "cell_type": "markdown",
   "id": "c6af2b6d",
   "metadata": {},
   "source": [
    "### Part B"
   ]
  },
  {
   "cell_type": "code",
   "execution_count": 15,
   "id": "7ebee24a",
   "metadata": {},
   "outputs": [
    {
     "name": "stdout",
     "output_type": "stream",
     "text": [
      "['the', 'quick', 'brown', 'fox', 'jumps', 'over', 'the', 'lazy', 'dog']\n"
     ]
    }
   ],
   "source": [
    "lowerCaseWords = []\n",
    "\n",
    "for word in words:\n",
    "    lowerCaseWords.append(word.lower())\n",
    "\n",
    "print(lowerCaseWords)"
   ]
  },
  {
   "cell_type": "markdown",
   "id": "ede63032",
   "metadata": {},
   "source": [
    "### Part C"
   ]
  },
  {
   "cell_type": "code",
   "execution_count": 16,
   "id": "69a85f24",
   "metadata": {},
   "outputs": [
    {
     "name": "stdout",
     "output_type": "stream",
     "text": [
      "[3, 5, 5, 3, 5, 4, 3, 4, 3]\n"
     ]
    }
   ],
   "source": [
    "wordsWithLength = []\n",
    "\n",
    "for word in words:\n",
    "    wordsWithLength.append(len(word))\n",
    "\n",
    "print(wordsWithLength)"
   ]
  },
  {
   "cell_type": "markdown",
   "id": "e656196e",
   "metadata": {},
   "source": [
    "### Part D"
   ]
  },
  {
   "cell_type": "code",
   "execution_count": 17,
   "id": "3ca19bde",
   "metadata": {},
   "outputs": [
    {
     "name": "stdout",
     "output_type": "stream",
     "text": [
      "[['THE', 'the', 3], ['QUICK', 'quick', 5], ['BROWN', 'brown', 5], ['FOX', 'fox', 3], ['JUMPS', 'jumps', 5], ['OVER', 'over', 4], ['THE', 'the', 3], ['LAZY', 'lazy', 4], ['DOG', 'dog', 3]]\n"
     ]
    }
   ],
   "source": [
    "combineWords = []\n",
    "\n",
    "for word in words:\n",
    "    concatewd = [word.upper(),word.lower(),len(word)]\n",
    "    combineWords.append(concatewd) # adding whole list in list\n",
    "    \n",
    "\n",
    "print(combineWords)"
   ]
  },
  {
   "cell_type": "markdown",
   "id": "dae4c916",
   "metadata": {},
   "source": [
    "### Part E"
   ]
  },
  {
   "cell_type": "code",
   "execution_count": 18,
   "id": "1fa28e5c",
   "metadata": {},
   "outputs": [
    {
     "name": "stdout",
     "output_type": "stream",
     "text": [
      "['quick', 'brown', 'jumps', 'over', 'lazy']\n"
     ]
    }
   ],
   "source": [
    "wordsWithlength_4 =[]\n",
    "for w,w1 in zip(combineWords,words):\n",
    "    if(w[2]>=4):\n",
    "        wordsWithlength_4.append(w1)\n",
    "print(wordsWithlength_4)"
   ]
  }
 ],
 "metadata": {
  "kernelspec": {
   "display_name": "Python 3 (ipykernel)",
   "language": "python",
   "name": "python3"
  },
  "language_info": {
   "codemirror_mode": {
    "name": "ipython",
    "version": 3
   },
   "file_extension": ".py",
   "mimetype": "text/x-python",
   "name": "python",
   "nbconvert_exporter": "python",
   "pygments_lexer": "ipython3",
   "version": "3.9.13"
  }
 },
 "nbformat": 4,
 "nbformat_minor": 5
}
